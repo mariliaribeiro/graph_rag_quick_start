{
 "cells": [
  {
   "cell_type": "markdown",
   "id": "695e71ff",
   "metadata": {},
   "source": [
    "# Tutorial de GraphRAG com base no LLM Graph Transformer\n",
    "\n",
    "Notebooks desenvolvido com base nos links abaixo:\n",
    "- [Graph RAG](https://python.langchain.com/docs/integrations/retrievers/graph_rag/)\n",
    "- [Project Page](https://datastax.github.io/graph-rag/#example-langchain-retriever-combining-vector-and-graph-traversal)"
   ]
  },
  {
   "cell_type": "markdown",
   "id": "a81164a8",
   "metadata": {},
   "source": [
    "## Imports e carregamento de variáveis de ambiente"
   ]
  },
  {
   "cell_type": "code",
   "execution_count": 1,
   "id": "ced4309e",
   "metadata": {},
   "outputs": [],
   "source": [
    "from src.settings import BASE_DIR, SQLITE_DB_NAME, MONGO_URI, MONGO_DB_NAME, MONGO_COLLECTION\n",
    "from src.utils.dataviz import plot_graph_documents"
   ]
  },
  {
   "cell_type": "markdown",
   "id": "7b4689b2",
   "metadata": {},
   "source": [
    "## Graph RAG"
   ]
  },
  {
   "cell_type": "code",
   "execution_count": 2,
   "id": "3349e61c",
   "metadata": {},
   "outputs": [],
   "source": [
    "# Download the test documents\n",
    "\n",
    "from graph_rag_example_helpers.datasets.animals import fetch_documents\n",
    "\n",
    "animals = fetch_documents()"
   ]
  },
  {
   "cell_type": "code",
   "execution_count": 3,
   "id": "9934418b",
   "metadata": {},
   "outputs": [
    {
     "data": {
      "text/plain": [
       "[Document(id='aardvark', metadata={'type': 'mammal', 'number_of_legs': 4, 'keywords': ['burrowing', 'nocturnal', 'ants', 'savanna'], 'habitat': 'savanna', 'tags': [{'a': 5, 'b': 7}, {'a': 8, 'b': 10}]}, page_content='the aardvark is a nocturnal mammal known for its burrowing habits and long snout used to sniff out ants.'),\n",
       " Document(id='albatross', metadata={'type': 'bird', 'number_of_legs': 2, 'keywords': ['seabird', 'wingspan', 'ocean'], 'habitat': 'marine', 'tags': [{'a': 5, 'b': 8}, {'a': 8, 'b': 10}]}, page_content='the albatross is a large seabird with the longest wingspan of any bird, allowing it to glide effortlessly over oceans.'),\n",
       " Document(id='alligator', metadata={'type': 'reptile', 'number_of_legs': 4, 'keywords': ['reptile', 'jaws', 'wetlands'], 'diet': 'carnivorous', 'nested': {'a': 5}}, page_content='alligators are large reptiles with powerful jaws and are commonly found in freshwater wetlands.'),\n",
       " Document(id='alpaca', metadata={'type': 'mammal', 'number_of_legs': 4, 'keywords': ['wool', 'domesticated', 'friendly'], 'origin': 'south america', 'nested': {'a': 5}}, page_content='alpacas are domesticated mammals valued for their soft wool and friendly demeanor.'),\n",
       " Document(id='ant', metadata={'type': 'insect', 'number_of_legs': 6, 'keywords': ['social', 'colonies', 'strength', 'pollinator'], 'diet': 'omnivorous', 'nested': {'a': 6}}, page_content='ants are social insects that live in colonies and are known for their teamwork and strength.'),\n",
       " Document(id='anteater', metadata={'type': 'mammal', 'number_of_legs': 4, 'keywords': ['ants', 'tongue', 'termites'], 'diet': 'insectivore', 'nested': {'b': 5}}, page_content='anteaters use their long tongues to eat thousands of ants and termites each day.'),\n",
       " Document(id='antelope', metadata={'type': 'mammal', 'number_of_legs': 4, 'keywords': ['graceful', 'herbivore', 'prey'], 'habitat': 'grasslands'}, page_content='antelopes are graceful herbivorous mammals that are often prey for large predators in the wild.'),\n",
       " Document(id='armadillo', metadata={'type': 'mammal', 'number_of_legs': 4, 'keywords': ['protective', 'shell', 'rolling'], 'diet': 'insectivore'}, page_content='armadillos have hard, protective shells and are known for their ability to roll into a ball.'),\n",
       " Document(id='baboon', metadata={'type': 'mammal', 'number_of_legs': 4, 'keywords': ['social', 'primates', 'group'], 'diet': 'omnivorous'}, page_content='baboons are highly social primates with complex group dynamics and strong bonds.'),\n",
       " Document(id='badger', metadata={'type': 'mammal', 'number_of_legs': 4, 'keywords': ['burrowing', 'defense', 'digging'], 'diet': 'omnivorous'}, page_content='badgers are burrowing mammals known for their aggressive defense and digging skills.'),\n",
       " Document(id='barracuda', metadata={'type': 'fish', 'number_of_legs': 0, 'keywords': ['predatory', 'sharp teeth', 'streamlined'], 'habitat': 'marine'}, page_content='the barracuda is a fierce predatory fish with sharp teeth and streamlined bodies.'),\n",
       " Document(id='bat', metadata={'type': 'mammal', 'number_of_legs': 2, 'keywords': ['flight', 'pollinator', 'pest control'], 'activity': 'nocturnal'}, page_content='bats are the only mammals capable of sustained flight and are essential for pollination and pest control.'),\n",
       " Document(id='bear', metadata={'type': 'mammal', 'number_of_legs': 4, 'keywords': ['large', 'habitat', 'omnivore', 'forest-floor'], 'diet': 'omnivorous', 'habitat': 'tundra'}, page_content='bears are large mammals that can be found across many habitats, from forests to tundras.'),\n",
       " Document(id='beaver', metadata={'type': 'mammal', 'number_of_legs': 4, 'keywords': ['dam-building', 'ecosystem', 'rivers'], 'diet': 'herbivorous'}, page_content='beavers are known for their dam-building skills, creating entire ecosystems in rivers and streams.'),\n",
       " Document(id='bee', metadata={'type': 'insect', 'number_of_legs': 6, 'keywords': ['pollinator', 'agriculture', 'honey'], 'activity': 'diurnal'}, page_content='bees are an insect that is a vital pollinator, playing a crucial role in agriculture and ecosystems.'),\n",
       " Document(id='beetle', metadata={'type': 'insect', 'number_of_legs': 6, 'keywords': ['diverse', 'species', 'hard shell'], 'diet': 'varied'}, page_content='beetles are one of the most diverse groups of insects, with over 350,000 species identified.'),\n",
       " Document(id='bison', metadata={'type': 'mammal', 'number_of_legs': 4, 'keywords': ['herbivore', 'grasslands', 'herds'], 'conservation': 'near-threatened'}, page_content='bison are massive herbivores that once roamed the grasslands of north america in vast herds.'),\n",
       " Document(id='blue jay', metadata={'type': 'bird', 'number_of_legs': 2, 'keywords': ['intelligent', 'loud', 'brightly colored'], 'diet': 'omnivorous'}, page_content='the blue jay is a brightly colored bird known for its intelligence and loud calls.'),\n",
       " Document(id='boar', metadata={'type': 'mammal', 'number_of_legs': 4, 'keywords': ['wild', 'tusks', 'pigs'], 'diet': 'omnivorous'}, page_content='boars are wild relatives of pigs, known for their tough hides and tusks.'),\n",
       " Document(id='bobcat', metadata={'type': 'mammal', 'number_of_legs': 4, 'keywords': ['wildcat', 'solitary', 'tufted ears', 'forest-floor'], 'habitat': 'forest-floor'}, page_content='the bobcat is a medium-sized wildcat known for its tufted ears and solitary nature.'),\n",
       " Document(id='buffalo', metadata={'type': 'mammal', 'number_of_legs': 4, 'keywords': ['herbivore', 'horns', 'grazing'], 'habitat': 'grasslands'}, page_content='buffalo are large herbivorous mammals known for their horns and grazing habits.'),\n",
       " Document(id='butterfly', metadata={'type': 'insect', 'number_of_legs': 6, 'keywords': ['colorful', 'metamorphosis', 'pollinator'], 'activity': 'diurnal'}, page_content='butterflies are colorful insects known for their metamorphosis from caterpillars.'),\n",
       " Document(id='camel', metadata={'type': 'mammal', 'number_of_legs': 4, 'keywords': ['desert', 'humps', 'survival'], 'adaptation': 'arid climates'}, page_content='camels are desert mammals known for their humps, which store fat for survival.'),\n",
       " Document(id='capybara', metadata={'type': 'mammal', 'number_of_legs': 4, 'keywords': ['rodent', 'social', 'largest'], 'habitat': 'wetlands'}, page_content='capybaras are the largest rodents in the world and are highly social animals.'),\n",
       " Document(id='caribou', metadata={'type': 'mammal', 'number_of_legs': 4, 'keywords': ['migratory', 'arctic', 'herbivore', 'tundra'], 'diet': 'herbivorous'}, page_content='caribou, also known as reindeer, are migratory mammals found in arctic regions.'),\n",
       " Document(id='cassowary', metadata={'type': 'bird', 'number_of_legs': 2, 'keywords': ['flightless', 'colorful', 'powerful'], 'habitat': 'rainforest'}, page_content='cassowaries are flightless birds known for their colorful necks and powerful legs.'),\n",
       " Document(id='cat', metadata={'type': 'mammal', 'number_of_legs': 4, 'keywords': ['domesticated', 'hunting', 'agile'], 'diet': 'carnivorous'}, page_content='cats are domesticated mammals known for their agility, independence, and hunting skills.'),\n",
       " Document(id='caterpillar', metadata={'type': 'insect', 'number_of_legs': 6, 'keywords': ['larva', 'metamorphosis', 'appetite'], 'diet': 'herbivorous'}, page_content='caterpillars are the larval stage of butterflies and moths, known for their voracious appetites.'),\n",
       " Document(id='chameleon', metadata={'type': 'reptile', 'number_of_legs': 4, 'keywords': ['color change', 'sticky tongue', 'camouflage'], 'habitat': 'forest'}, page_content='chameleons are reptiles known for their ability to change color and their long, sticky tongues.'),\n",
       " Document(id='cheetah', metadata={'type': 'mammal', 'number_of_legs': 4, 'keywords': ['fastest', 'speed', 'predator'], 'habitat': 'savanna'}, page_content='cheetahs are the fastest land animals, capable of reaching speeds up to 70 mph.'),\n",
       " Document(id='chicken', metadata={'type': 'bird', 'number_of_legs': 2, 'keywords': ['domesticated', 'eggs', 'meat'], 'diet': 'omnivorous'}, page_content='chickens are domesticated birds raised for their eggs and meat worldwide.'),\n",
       " Document(id='chimpanzee', metadata={'type': 'mammal', 'number_of_legs': 4, 'keywords': ['intelligent', 'primates', 'dna'], 'habitat': 'forest'}, page_content='chimpanzees are intelligent primates that share about 98% of their dna with humans.'),\n",
       " Document(id='chinchilla', metadata={'type': 'mammal', 'number_of_legs': 4, 'keywords': ['soft fur', 'rodent', 'andes'], 'diet': 'herbivorous'}, page_content='chinchillas are small rodents with incredibly soft fur, native to the andes mountains.'),\n",
       " Document(id='cobra', metadata={'type': 'reptile', 'number_of_legs': 0, 'keywords': ['venomous', 'hood', 'snake'], 'habitat': 'forest-floor'}, page_content='cobras are venomous snakes known for their hood displays and defensive postures.'),\n",
       " Document(id='cockroach', metadata={'type': 'insect', 'number_of_legs': 6, 'keywords': ['resilient', 'extreme conditions', 'scavenger'], 'diet': 'omnivorous'}, page_content='cockroaches are resilient insects capable of surviving in extreme conditions.'),\n",
       " Document(id='coyote', metadata={'type': 'mammal', 'number_of_legs': 4, 'keywords': ['howls', 'adaptable', 'cunning'], 'habitat': 'grasslands'}, page_content='coyotes are adaptable mammals known for their distinctive howls and cunning nature.'),\n",
       " Document(id='crab', metadata={'type': 'crustacean', 'number_of_legs': 8, 'keywords': ['hard shell', 'pincers', 'coastal'], 'habitat': 'marine'}, page_content='crabs are crustaceans with hard shells and pincers, commonly found near coastal areas.'),\n",
       " Document(id='crane', metadata={'type': 'bird', 'number_of_legs': 2, 'keywords': ['elegant', 'courtship', 'dance'], 'habitat': 'wetlands'}, page_content='cranes are large, elegant birds known for their elaborate courtship dances.'),\n",
       " Document(id='crocodile', metadata={'type': 'reptile', 'number_of_legs': 4, 'keywords': ['reptile', 'jaws', 'long lifespan'], 'habitat': 'wetlands'}, page_content='crocodiles are large reptiles with powerful jaws and a long lifespan, often living over 70 years.'),\n",
       " Document(id='crow', metadata={'type': 'bird', 'number_of_legs': 2, 'keywords': ['intelligent', 'adaptable', 'problem-solving'], 'diet': 'omnivorous'}, page_content='crows are highly intelligent birds known for their problem-solving skills and adaptability.'),\n",
       " Document(id='deer', metadata={'type': 'mammal', 'number_of_legs': 4, 'keywords': ['antlers', 'graceful', 'herbivore'], 'habitat': 'forest-floor'}, page_content='deer are graceful mammals known for their antlers, which are shed and regrown annually.'),\n",
       " Document(id='dingo', metadata={'type': 'mammal', 'number_of_legs': 4, 'keywords': ['wild canine', 'australia', 'adaptable'], 'diet': 'carnivorous'}, page_content='dingoes are wild canines native to australia, known for their adaptability and hunting skills.'),\n",
       " Document(id='dog', metadata={'type': 'mammal', 'number_of_legs': 4, 'keywords': ['domesticated', 'loyal', 'companion'], 'diet': 'omnivorous'}, page_content=\"dogs are domesticated mammals known as loyal companions and are widely regarded as 'man's best friend.'\"),\n",
       " Document(id='dolphin', metadata={'type': 'mammal', 'number_of_legs': 0, 'keywords': ['intelligent', 'marine', 'playful'], 'habitat': 'ocean'}, page_content='dolphins are intelligent marine mammals known for their playful behavior and communication skills.'),\n",
       " Document(id='donkey', metadata={'type': 'mammal', 'number_of_legs': 4, 'keywords': ['hardy', 'working animal', 'strength'], 'diet': 'herbivorous'}, page_content='donkeys are hardy mammals known for their strength and use as working animals.'),\n",
       " Document(id='dove', metadata={'type': 'bird', 'number_of_legs': 2, 'keywords': ['gentle', 'peace', 'symbolism'], 'diet': 'herbivorous'}, page_content='doves are gentle birds often symbolizing peace and love in various cultures.'),\n",
       " Document(id='dragonfly', metadata={'type': 'insect', 'number_of_legs': 6, 'keywords': ['fast-flying', 'vibrant', 'vision'], 'habitat': 'wetlands'}, page_content='dragonflies are fast-flying insects known for their vibrant colors and excellent vision.'),\n",
       " Document(id='duck', metadata={'type': 'bird', 'number_of_legs': 2, 'keywords': ['webbed feet', 'waterfowl', 'quacking'], 'habitat': 'wetlands'}, page_content='ducks are waterfowl birds known for their webbed feet and quacking sounds.'),\n",
       " Document(id='eagle', metadata={'type': 'bird', 'number_of_legs': 2, 'keywords': ['bird of prey', 'sharp vision', 'talons'], 'diet': 'carnivorous'}, page_content='eagles are powerful birds of prey known for their sharp vision and strong talons.'),\n",
       " Document(id='eel', metadata={'type': 'fish', 'number_of_legs': 0, 'keywords': ['elongated', 'marine', 'freshwater'], 'diet': 'carnivorous'}, page_content='eels are elongated fish often found in marine and freshwater environments.'),\n",
       " Document(id='elephant', metadata={'type': 'mammal', 'number_of_legs': 4, 'keywords': ['largest', 'intelligent', 'social bonds'], 'diet': 'herbivorous'}, page_content='elephants are the largest land mammals, known for their intelligence and strong social bonds.'),\n",
       " Document(id='elk', metadata={'type': 'mammal', 'number_of_legs': 4, 'keywords': ['antlers', 'bugling', 'mating'], 'habitat': 'forest-floor'}, page_content='elk are large deer species known for their impressive antlers and bugling calls during mating season.'),\n",
       " Document(id='emu', metadata={'type': 'bird', 'number_of_legs': 2, 'keywords': ['flightless', 'speed', 'australia'], 'diet': 'omnivorous'}, page_content='emus are large flightless birds native to australia, known for their speed and size.'),\n",
       " Document(id='falcon', metadata={'type': 'bird', 'number_of_legs': 2, 'keywords': ['speed', 'precision', 'bird of prey'], 'diet': 'carnivorous'}, page_content='falcons are birds of prey known for their speed and precision in hunting.'),\n",
       " Document(id='ferret', metadata={'type': 'mammal', 'number_of_legs': 4, 'keywords': ['playful', 'curious', 'pet'], 'diet': 'carnivorous'}, page_content='ferrets are small, curious mammals often kept as pets for their playful nature.'),\n",
       " Document(id='finch', metadata={'type': 'bird', 'number_of_legs': 2, 'keywords': ['small', 'songs', 'diverse'], 'diet': 'herbivorous'}, page_content='finches are small birds known for their diverse species and beautiful songs.'),\n",
       " Document(id='fish', metadata={'type': 'fish', 'number_of_legs': 0, 'keywords': ['aquatic', 'gills', 'marine'], 'habitat': 'water'}, page_content='fish are aquatic animals with gills, commonly found in both freshwater and marine environments.'),\n",
       " Document(id='flamingo', metadata={'type': 'bird', 'number_of_legs': 2, 'keywords': ['pink', 'wading', 'long legs'], 'diet': 'omnivorous'}, page_content='flamingos are wading birds famous for their pink feathers and long legs.'),\n",
       " Document(id='fox', metadata={'type': 'mammal', 'number_of_legs': 4, 'keywords': ['cunning', 'agile', 'bushy tail'], 'diet': 'omnivorous'}, page_content='foxes are small, agile mammals known for their cunning behavior and bushy tails.'),\n",
       " Document(id='frog', metadata={'type': 'amphibian', 'number_of_legs': 4, 'keywords': ['jumping', 'croaking', 'amphibian'], 'habitat': 'wetlands'}, page_content='frogs are amphibians known for their jumping ability and croaking sounds.'),\n",
       " Document(id='gazelle', metadata={'type': 'mammal', 'number_of_legs': 4, 'keywords': ['fast', 'agile', 'grasslands'], 'diet': 'herbivorous', 'habitat': 'savanna'}, page_content='gazelles are fast and agile mammals commonly found in grasslands and savannas.'),\n",
       " Document(id='gecko', metadata={'type': 'reptile', 'number_of_legs': 4, 'keywords': ['climbing', 'small lizard', 'sticky feet'], 'habitat': 'forest'}, page_content='geckos are small lizards known for their ability to climb walls and ceilings with ease.'),\n",
       " Document(id='giraffe', metadata={'type': 'mammal', 'number_of_legs': 4, 'keywords': ['tallest', 'long neck', 'spots'], 'diet': 'herbivorous'}, page_content='giraffes are the tallest land animals, known for their long necks and unique spotted patterns.'),\n",
       " Document(id='goat', metadata={'type': 'mammal', 'number_of_legs': 4, 'keywords': ['hardy', 'milk', 'meat'], 'diet': 'herbivorous'}, page_content='goats are hardy mammals often kept for their milk, meat, and ability to graze on tough vegetation.'),\n",
       " Document(id='goose', metadata={'type': 'bird', 'number_of_legs': 2, 'keywords': ['waterfowl', 'migration', 'honking'], 'diet': 'herbivorous'}, page_content='geese are large waterfowl known for their migration patterns and loud honking calls.'),\n",
       " Document(id='gorilla', metadata={'type': 'mammal', 'number_of_legs': 4, 'keywords': ['strength', 'intelligence', 'primate'], 'habitat': 'forest'}, page_content='gorillas are large primates known for their strength, intelligence, and family-oriented behavior.'),\n",
       " Document(id='grasshopper', metadata={'type': 'insect', 'number_of_legs': 6, 'keywords': ['jumping', 'hind legs', 'chirping'], 'diet': 'herbivorous'}, page_content='grasshoppers are jumping insects known for their powerful hind legs and chirping sounds.'),\n",
       " Document(id='guinea pig', metadata={'type': 'mammal', 'number_of_legs': 4, 'keywords': ['pet', 'social', 'gentle'], 'diet': 'herbivorous'}, page_content='guinea pigs are small rodents often kept as pets due to their gentle and social nature.'),\n",
       " Document(id='hamster', metadata={'type': 'mammal', 'number_of_legs': 4, 'keywords': ['small rodent', 'cheek pouches', 'food storage'], 'diet': 'omnivorous'}, page_content='hamsters are small rodents known for their cheek pouches used to store food.'),\n",
       " Document(id='hawk', metadata={'type': 'bird', 'number_of_legs': 2, 'keywords': ['bird of prey', 'keen eyesight', 'hunter'], 'diet': 'carnivorous'}, page_content='hawks are birds of prey known for their keen eyesight and hunting prowess.'),\n",
       " Document(id='hedgehog', metadata={'type': 'mammal', 'number_of_legs': 4, 'keywords': ['spiky', 'curling', 'small mammal'], 'diet': 'omnivorous', 'habitat': 'grasslands'}, page_content='hedgehogs are small mammals known for their spiky quills and ability to curl into a ball.'),\n",
       " Document(id='heron', metadata={'type': 'bird', 'number_of_legs': 2, 'keywords': ['wading', 'long legs', 'water'], 'habitat': 'wetlands'}, page_content='herons are wading birds known for their long legs and necks, often seen near water.'),\n",
       " Document(id='hippopotamus', metadata={'type': 'mammal', 'number_of_legs': 4, 'keywords': ['massive', 'semi-aquatic', 'territorial'], 'habitat': 'rivers'}, page_content='hippopotamuses are large semi-aquatic mammals known for their massive size and territorial behavior.'),\n",
       " Document(id='hornet', metadata={'type': 'insect', 'number_of_legs': 6, 'keywords': ['wasp', 'sting', 'aggressive'], 'diet': 'carnivorous'}, page_content='hornets are large, aggressive wasps known for their painful stings.'),\n",
       " Document(id='horse', metadata={'type': 'mammal', 'number_of_legs': 4, 'keywords': ['domesticated', 'riding', 'strong'], 'diet': 'herbivorous'}, page_content='horses are strong, domesticated mammals often used for riding, work, and sports.'),\n",
       " Document(id='hummingbird', metadata={'type': 'bird', 'number_of_legs': 2, 'keywords': ['hovering', 'rapid wings', 'tiny bird'], 'diet': 'nectar'}, page_content='hummingbirds are tiny birds known for their rapid wing beats and ability to hover.'),\n",
       " Document(id='hyena', metadata={'type': 'mammal', 'number_of_legs': 4, 'keywords': ['laughing', 'pack', 'carnivore'], 'habitat': 'savanna'}, page_content='hyenas are carnivorous mammals known for their distinctive laughs and pack behavior.'),\n",
       " Document(id='iguana', metadata={'type': 'reptile', 'number_of_legs': 4, 'keywords': ['large lizard', 'herbivore', 'basking'], 'habitat': 'forest'}, page_content='iguanas are large herbivorous lizards often found basking in trees and near water.'),\n",
       " Document(id='jackal', metadata={'type': 'mammal', 'number_of_legs': 4, 'keywords': ['scavenger', 'adaptable', 'carnivore'], 'diet': 'omnivorous'}, page_content='jackals are carnivorous mammals known for their scavenging and adaptability.'),\n",
       " Document(id='jaguar', metadata={'type': 'mammal', 'number_of_legs': 4, 'keywords': ['big cat', 'spotted coat', 'predator'], 'habitat': 'rainforest'}, page_content='jaguars are powerful big cats known for their spotted coats and strength as predators.'),\n",
       " Document(id='jellyfish', metadata={'type': 'cnidarian', 'number_of_legs': 0, 'keywords': ['marine', 'tentacles', 'stinging cells'], 'habitat': 'ocean'}, page_content='jellyfish are marine animals with umbrella-shaped bodies and tentacles, known for their stinging cells.'),\n",
       " Document(id='kangaroo', metadata={'type': 'mammal', 'number_of_legs': 2, 'keywords': ['marsupial', 'australia', 'pouch'], 'diet': 'herbivorous'}, page_content='kangaroos are marsupials native to australia, known for their powerful hind legs and pouches.'),\n",
       " Document(id='koala', metadata={'type': 'mammal', 'number_of_legs': 4, 'keywords': ['marsupial', 'tree-dwelling', 'eucalyptus'], 'diet': 'herbivorous'}, page_content='koalas are tree-dwelling marsupials native to australia, known for their diet of eucalyptus leaves.'),\n",
       " Document(id='komodo dragon', metadata={'type': 'reptile', 'number_of_legs': 4, 'keywords': ['large lizard', 'venom', 'bite'], 'habitat': 'islands'}, page_content='komodo dragons are the largest living lizards, known for their powerful bite and venom.'),\n",
       " Document(id='lark', metadata={'type': 'bird', 'number_of_legs': 2, 'keywords': ['songbird', 'melodious', 'ground-nesting'], 'diet': 'herbivorous'}, page_content='larks are small songbirds known for their melodious calls and ground-nesting habits.'),\n",
       " Document(id='lemur', metadata={'type': 'mammal', 'number_of_legs': 4, 'keywords': ['primates', 'madagascar', 'social'], 'diet': 'omnivorous'}, page_content='lemurs are primates native to madagascar, known for their large eyes and social behavior.'),\n",
       " Document(id='leopard', metadata={'type': 'mammal', 'number_of_legs': 4, 'keywords': ['big cat', 'spotted coat', 'climbing'], 'habitat': 'forest'}, page_content='leopards are big cats known for their spotted coats and ability to climb trees.'),\n",
       " Document(id='lion', metadata={'type': 'mammal', 'number_of_legs': 4, 'keywords': ['carnivorous', 'pride', 'king of the jungle'], 'habitat': 'savanna'}, page_content=\"lions are large carnivorous cats known as the 'king of the jungle,' living in prides.\"),\n",
       " Document(id='lizard', metadata={'type': 'reptile', 'number_of_legs': 4, 'keywords': ['reptile', 'regeneration', 'diverse'], 'habitat': 'varied'}, page_content='lizards are reptiles known for their ability to regenerate their tails and their diverse species.'),\n",
       " Document(id='lobster', metadata={'type': 'crustacean', 'number_of_legs': 10, 'keywords': ['marine', 'pincers', 'seafloor'], 'diet': 'carnivorous'}, page_content='lobsters are marine crustaceans known for their hard shells and pincers, often found on the seafloor.'),\n",
       " Document(id='magpie', metadata={'type': 'bird', 'number_of_legs': 2, 'keywords': ['intelligent', 'plumage', 'mimicry'], 'diet': 'omnivorous'}, page_content='magpies are intelligent birds known for their black-and-white plumage and ability to mimic sounds.'),\n",
       " Document(id='manatee', metadata={'type': 'mammal', 'number_of_legs': 0, 'keywords': ['marine', 'gentle', 'sea cow'], 'diet': 'herbivorous'}, page_content=\"manatees are large, gentle marine mammals often called 'sea cows' for their grazing habits.\"),\n",
       " Document(id='mongoose', metadata={'type': 'mammal', 'number_of_legs': 4, 'keywords': ['carnivore', 'agile', 'snake fighter'], 'habitat': 'forest-floor'}, page_content='mongooses are small carnivorous mammals known for their agility and ability to fight snakes.'),\n",
       " Document(id='moose', metadata={'type': 'mammal', 'number_of_legs': 4, 'keywords': ['large', 'antlers', 'deer family'], 'diet': 'herbivorous'}, page_content='moose are the largest members of the deer family, known for their massive antlers.'),\n",
       " Document(id='mosquito', metadata={'type': 'insect', 'number_of_legs': 6, 'keywords': ['bites', 'disease', 'vector'], 'diet': 'blood'}, page_content='mosquitoes are small insects known for their bites and role as disease vectors.'),\n",
       " Document(id='narwhal', metadata={'type': 'mammal', 'number_of_legs': 0, 'keywords': ['marine', 'tusks', 'unicorn'], 'habitat': 'arctic'}, page_content=\"narwhals are marine mammals known as 'unicorns of the sea' due to their long tusks.\"),\n",
       " Document(id='newt', metadata={'type': 'amphibian', 'number_of_legs': 4, 'keywords': ['regeneration', 'amphibian', 'small'], 'habitat': 'wetlands'}, page_content='newts are small amphibians known for their ability to regenerate limbs and tails.'),\n",
       " Document(id='octopus', metadata={'type': 'mollusk', 'number_of_legs': 8, 'keywords': ['intelligent', 'problem-solving', 'marine'], 'diet': 'carnivorous'}, page_content='octopuses are highly intelligent marine animals known for their problem-solving skills and eight arms.'),\n",
       " Document(id='ostrich', metadata={'type': 'bird', 'number_of_legs': 2, 'keywords': ['large', 'flightless', 'fast'], 'habitat': 'savanna'}, page_content='ostriches are the largest and fastest birds, though they are flightless.')]"
      ]
     },
     "execution_count": 3,
     "metadata": {},
     "output_type": "execute_result"
    }
   ],
   "source": [
    "animals"
   ]
  },
  {
   "cell_type": "code",
   "execution_count": 4,
   "id": "a839e7a8",
   "metadata": {},
   "outputs": [],
   "source": [
    "animals_sample = animals[0:3]"
   ]
  },
  {
   "cell_type": "code",
   "execution_count": 25,
   "id": "a11ecc61",
   "metadata": {},
   "outputs": [
    {
     "data": {
      "text/plain": [
       "[Document(id='aardvark', metadata={'type': 'mammal', 'number_of_legs': 4, 'keywords': ['burrowing', 'nocturnal', 'ants', 'savanna'], 'habitat': 'savanna', 'tags': [{'a': 5, 'b': 7}, {'a': 8, 'b': 10}]}, page_content='the aardvark is a nocturnal mammal known for its burrowing habits and long snout used to sniff out ants.'),\n",
       " Document(id='albatross', metadata={'type': 'bird', 'number_of_legs': 2, 'keywords': ['seabird', 'wingspan', 'ocean'], 'habitat': 'marine', 'tags': [{'a': 5, 'b': 8}, {'a': 8, 'b': 10}]}, page_content='the albatross is a large seabird with the longest wingspan of any bird, allowing it to glide effortlessly over oceans.'),\n",
       " Document(id='alligator', metadata={'type': 'reptile', 'number_of_legs': 4, 'keywords': ['reptile', 'jaws', 'wetlands'], 'diet': 'carnivorous', 'nested': {'a': 5}}, page_content='alligators are large reptiles with powerful jaws and are commonly found in freshwater wetlands.')]"
      ]
     },
     "execution_count": 25,
     "metadata": {},
     "output_type": "execute_result"
    }
   ],
   "source": [
    "animals_sample"
   ]
  },
  {
   "cell_type": "code",
   "execution_count": 12,
   "id": "fa80aa8f",
   "metadata": {},
   "outputs": [
    {
     "name": "stderr",
     "output_type": "stream",
     "text": [
      "/home/mrs2/git/estudos/graph_rag/.venv/lib/python3.10/site-packages/tqdm/auto.py:21: TqdmWarning: IProgress not found. Please update jupyter and ipywidgets. See https://ipywidgets.readthedocs.io/en/stable/user_install.html\n",
      "  from .autonotebook import tqdm as notebook_tqdm\n",
      "Xet Storage is enabled for this repo, but the 'hf_xet' package is not installed. Falling back to regular HTTP download. For better performance, install the package with: `pip install huggingface_hub[hf_xet]` or `pip install hf_xet`\n"
     ]
    }
   ],
   "source": [
    "# Select embeddings model:\n",
    "\n",
    "import getpass\n",
    "import os\n",
    "\n",
    "if not os.environ.get(\"OPENAI_API_KEY\"):\n",
    "  os.environ[\"OPENAI_API_KEY\"] = getpass.getpass(\"Enter API key for OpenAI: \")\n",
    "\n",
    "#from langchain_openai import OpenAIEmbeddings\n",
    "# embedding_model = OpenAIEmbeddings(model=\"text-embedding-3-small\")\n",
    "\n",
    "\n",
    "from langchain.embeddings import HuggingFaceEmbeddings\n",
    "\n",
    "# Use o modelo gratuito 'all-MiniLM-L6-v2' da SentenceTransformers\n",
    "embedding_model = HuggingFaceEmbeddings(model_name=\"sentence-transformers/all-MiniLM-L6-v2\")"
   ]
  },
  {
   "cell_type": "code",
   "execution_count": 26,
   "id": "18092289",
   "metadata": {},
   "outputs": [],
   "source": [
    "# Then create a vector store and load the test documents:\n",
    "\n",
    "from langchain_core.vectorstores import InMemoryVectorStore\n",
    "\n",
    "vector_store = InMemoryVectorStore.from_documents(\n",
    "    documents=animals,\n",
    "    embedding=embedding_model,\n",
    ")"
   ]
  },
  {
   "cell_type": "code",
   "execution_count": 24,
   "id": "0dc386b9",
   "metadata": {},
   "outputs": [
    {
     "data": {
      "text/plain": [
       "<langchain_core.vectorstores.in_memory.InMemoryVectorStore at 0x73fe3129a170>"
      ]
     },
     "execution_count": 24,
     "metadata": {},
     "output_type": "execute_result"
    }
   ],
   "source": [
    "vector_store"
   ]
  },
  {
   "cell_type": "code",
   "execution_count": 27,
   "id": "3a7851b7",
   "metadata": {},
   "outputs": [
    {
     "name": "stdout",
     "output_type": "stream",
     "text": [
      "capybara: capybaras are the largest rodents in the world and are highly social animals.\n",
      "{'_depth': 0, '_similarity_score': np.float64(0.6954972122544383), 'type': 'mammal', 'number_of_legs': 4, 'keywords': ['rodent', 'social', 'largest'], 'habitat': 'wetlands'}\n",
      "newt: newts are small amphibians known for their ability to regenerate limbs and tails.\n",
      "{'_depth': 1, '_similarity_score': np.float64(0.28079772105700496), 'type': 'amphibian', 'number_of_legs': 4, 'keywords': ['regeneration', 'amphibian', 'small'], 'habitat': 'wetlands'}\n",
      "crocodile: crocodiles are large reptiles with powerful jaws and a long lifespan, often living over 70 years.\n",
      "{'_depth': 1, '_similarity_score': np.float64(0.23464065053115268), 'type': 'reptile', 'number_of_legs': 4, 'keywords': ['reptile', 'jaws', 'long lifespan'], 'habitat': 'wetlands'}\n",
      "duck: ducks are waterfowl birds known for their webbed feet and quacking sounds.\n",
      "{'_depth': 1, '_similarity_score': np.float64(0.2195624621175971), 'type': 'bird', 'number_of_legs': 2, 'keywords': ['webbed feet', 'waterfowl', 'quacking'], 'habitat': 'wetlands'}\n",
      "frog: frogs are amphibians known for their jumping ability and croaking sounds.\n",
      "{'_depth': 1, '_similarity_score': np.float64(0.2169325883057912), 'type': 'amphibian', 'number_of_legs': 4, 'keywords': ['jumping', 'croaking', 'amphibian'], 'habitat': 'wetlands'}\n"
     ]
    }
   ],
   "source": [
    "# Graph retriever\n",
    "\n",
    "from graph_retriever.strategies import Eager\n",
    "from langchain_graph_retriever import GraphRetriever\n",
    "\n",
    "traversal_retriever = GraphRetriever(\n",
    "    store = vector_store,\n",
    "    edges = [(\"habitat\", \"habitat\"), (\"origin\", \"origin\")],\n",
    "    strategy = Eager(k=5, start_k=1, max_depth=2),\n",
    ")\n",
    "results = traversal_retriever.invoke(\"what animals could be found near a capybara?\")\n",
    "\n",
    "for doc in results:\n",
    "    print(f\"{doc.id}: {doc.page_content}\")\n",
    "    print(doc.metadata)"
   ]
  },
  {
   "cell_type": "code",
   "execution_count": 28,
   "id": "440dc471",
   "metadata": {},
   "outputs": [],
   "source": [
    "# Aplicando o conhecimento dentro de uma chain\n",
    "\n",
    "from langchain.chat_models import init_chat_model\n",
    "from langchain_core.output_parsers import StrOutputParser\n",
    "from langchain_core.prompts import ChatPromptTemplate\n",
    "from langchain_core.runnables import RunnablePassthrough\n",
    "\n",
    "model=\"gpt-4o-mini\"\n",
    "llm = init_chat_model(model, model_provider=\"openai\")\n",
    "\n",
    "\n",
    "prompt = ChatPromptTemplate.from_template(\n",
    "\"\"\"Answer the question based only on the context provided.\n",
    "\n",
    "Context: {context}\n",
    "\n",
    "Question: {question}\"\"\"\n",
    ")\n",
    "\n",
    "def format_docs(docs):\n",
    "    return \"\\n\\n\".join(f\"text: {doc.page_content} metadata: {doc.metadata}\" for doc in docs)\n",
    "\n",
    "chain = (\n",
    "    {\"context\": traversal_retriever | format_docs, \"question\": RunnablePassthrough()}\n",
    "    | prompt\n",
    "    | llm\n",
    "    | StrOutputParser()\n",
    ")"
   ]
  },
  {
   "cell_type": "code",
   "execution_count": 29,
   "id": "9f9be7d5",
   "metadata": {},
   "outputs": [
    {
     "data": {
      "text/plain": [
       "'Animals that could be found near a capybara, based on the context provided, include newts, crocodiles, ducks, and frogs, as they all inhabit wetlands.'"
      ]
     },
     "execution_count": 29,
     "metadata": {},
     "output_type": "execute_result"
    }
   ],
   "source": [
    "chain.invoke(\"what animals could be found near a capybara?\")"
   ]
  }
 ],
 "metadata": {
  "kernelspec": {
   "display_name": ".venv",
   "language": "python",
   "name": "python3"
  },
  "language_info": {
   "codemirror_mode": {
    "name": "ipython",
    "version": 3
   },
   "file_extension": ".py",
   "mimetype": "text/x-python",
   "name": "python",
   "nbconvert_exporter": "python",
   "pygments_lexer": "ipython3",
   "version": "3.10.12"
  }
 },
 "nbformat": 4,
 "nbformat_minor": 5
}
