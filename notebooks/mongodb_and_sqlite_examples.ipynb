{
 "cells": [
  {
   "cell_type": "markdown",
   "id": "695e71ff",
   "metadata": {},
   "source": [
    "# Exemplos de uso do mongoDB e do SQLite"
   ]
  },
  {
   "cell_type": "markdown",
   "id": "a81164a8",
   "metadata": {},
   "source": [
    "## Carregando variáveis de ambiente"
   ]
  },
  {
   "cell_type": "code",
   "execution_count": 1,
   "id": "28dd0804",
   "metadata": {},
   "outputs": [],
   "source": [
    "from src.settings import BASE_DIR, SQLITE_DB_NAME, MONGO_URI, MONGO_DB_NAME, MONGO_COLLECTION"
   ]
  },
  {
   "cell_type": "markdown",
   "id": "cf36be33",
   "metadata": {},
   "source": [
    "## Criando base de dados relacional com SQLite"
   ]
  },
  {
   "cell_type": "markdown",
   "id": "17dd444d",
   "metadata": {},
   "source": [
    "### Conectando-se ao SQLite\n",
    "Primeiro, vamos importar a biblioteca sqlite3 e estabelecer uma conexão com o banco de dados SQLite. Se o arquivo do banco de dados não existir, ele será criado automaticamente."
   ]
  },
  {
   "cell_type": "code",
   "execution_count": null,
   "id": "f80de7d9",
   "metadata": {},
   "outputs": [],
   "source": [
    "import sqlite3\n",
    "\n",
    "# Conectar ao banco de dados SQLite (será criado se não existir)\n",
    "db_path = f\"{BASE_DIR}/data/sqlite/{SQLITE_DB_NAME}\"\n",
    "connection = sqlite3.connect(db_path)\n",
    "cursor = connection.cursor()"
   ]
  },
  {
   "cell_type": "markdown",
   "id": "5b9a9cb0",
   "metadata": {},
   "source": [
    "### Criando Tabelas\n",
    "Agora, vamos criar três tabelas: MOVIES, MOVIES_CUSTOMER e WATCHED_MOVIE"
   ]
  },
  {
   "cell_type": "code",
   "execution_count": 2,
   "id": "827007be",
   "metadata": {},
   "outputs": [
    {
     "data": {
      "text/plain": [
       "<sqlite3.Cursor at 0x7218341a9540>"
      ]
     },
     "execution_count": 2,
     "metadata": {},
     "output_type": "execute_result"
    }
   ],
   "source": [
    "# Criar tabela MOVIES\n",
    "cursor.execute(\"\"\"\n",
    "    CREATE TABLE IF NOT EXISTS MOVIES (\n",
    "        MOVIE_ID INTEGER PRIMARY KEY,\n",
    "        TITLE TEXT,\n",
    "        GENRES TEXT,\n",
    "        SUMMARY TEXT\n",
    "    )\n",
    "\"\"\")\n",
    "\n",
    "# Criar tabela MOVIES_CUSTOMER\n",
    "cursor.execute(\"\"\"\n",
    "    CREATE TABLE IF NOT EXISTS MOVIES_CUSTOMER (\n",
    "        CUST_ID INTEGER PRIMARY KEY,\n",
    "        FIRSTNAME TEXT,\n",
    "        LASTNAME TEXT\n",
    "    )\n",
    "\"\"\")\n",
    "\n",
    "# Criar tabela WATCHED_MOVIE\n",
    "cursor.execute(\"\"\"\n",
    "    CREATE TABLE IF NOT EXISTS WATCHED_MOVIE (\n",
    "        DAY_ID TEXT,\n",
    "        MOVIE_ID INTEGER,\n",
    "        PROMO_CUST_ID INTEGER,\n",
    "        PRIMARY KEY (DAY_ID, MOVIE_ID, PROMO_CUST_ID),\n",
    "        FOREIGN KEY (MOVIE_ID) REFERENCES MOVIES(MOVIE_ID),\n",
    "        FOREIGN KEY (PROMO_CUST_ID) REFERENCES MOVIES_CUSTOMER(CUST_ID)\n",
    "    )\n",
    "\"\"\")"
   ]
  },
  {
   "cell_type": "markdown",
   "id": "cde789bd",
   "metadata": {},
   "source": [
    "### Inserindo os dados nas tabelas"
   ]
  },
  {
   "cell_type": "code",
   "execution_count": 3,
   "id": "449a8100",
   "metadata": {},
   "outputs": [],
   "source": [
    "# Inserir dados na tabela MOVIES\n",
    "cursor.executemany(\"\"\"\n",
    "    INSERT INTO MOVIES (MOVIE_ID, TITLE, GENRES, SUMMARY) VALUES (?, ?, ?, ?)\n",
    "\"\"\", [\n",
    "    (1, 'Inception', '{\"Action\": \"Sci-Fi\"}', 'A thief who steals corporate secrets through the use of dream-sharing technology is given the inverse task of planting an idea into the mind of a C.E.O.'),\n",
    "    (2, 'The Matrix', '{\"Action\": \"Sci-Fi\"}', 'A computer hacker learns from mysterious rebels about the true nature of his reality and his role in the war against its controllers.'),\n",
    "    (3, 'The Godfather', '{\"Drama\": \"Crime\"}', 'The aging patriarch of an organized crime dynasty transfers control of his clandestine empire to his reluctant son.'),\n",
    "    (4, 'Titanic', '{\"Romance\": \"Drama\"}', 'A seventeen-year-old aristocrat falls in love with a kind but poor artist aboard the luxurious, ill-fated R.M.S. Titanic.'),\n",
    "    (5, 'Toy Story', '{\"Animation\": \"Adventure\"}', 'A cowboy doll is profoundly threatened and jealous when a new spaceman figure supplants him as top toy in a boy''s room.')\n",
    "])\n",
    "\n",
    "# Inserir dados na tabela MOVIES_CUSTOMER\n",
    "cursor.executemany(\"\"\"\n",
    "    INSERT INTO MOVIES_CUSTOMER (CUST_ID, FIRSTNAME, LASTNAME) VALUES (?, ?, ?)\n",
    "\"\"\", [\n",
    "    (101, 'John', 'Doe'),\n",
    "    (102, 'Jane', 'Smith'),\n",
    "    (103, 'Sam', 'Wilson'),\n",
    "    (104, 'Emily', 'Clark'),\n",
    "    (105, 'Michael', 'Johnson')\n",
    "])\n",
    "\n",
    "# Inserir dados na tabela WATCHED_MOVIE\n",
    "cursor.executemany(\"\"\"\n",
    "    INSERT INTO WATCHED_MOVIE (DAY_ID, MOVIE_ID, PROMO_CUST_ID) VALUES (?, ?, ?)\n",
    "\"\"\", [\n",
    "    ('2024-10-30 12:34:56', 1, 101),\n",
    "    ('2024-10-31 12:34:56', 2, 101),\n",
    "    ('2024-09-30 12:34:56', 3, 101),\n",
    "    ('2024-10-31 09:15:23', 2, 102),\n",
    "    ('2024-11-01 16:45:12', 3, 103),\n",
    "    ('2024-11-02 18:22:43', 4, 104),\n",
    "    ('2024-11-03 20:01:00', 5, 105)\n",
    "])\n",
    "\n",
    "# Confirmar as alterações\n",
    "connection.commit()"
   ]
  },
  {
   "cell_type": "markdown",
   "id": "dcd48fd6",
   "metadata": {},
   "source": [
    "### Consultando os Dados\n",
    "Para consultar os dados inseridos e verificar as informações, podemos executar uma simples consulta SQL:"
   ]
  },
  {
   "cell_type": "code",
   "execution_count": 4,
   "id": "88edcd0c",
   "metadata": {},
   "outputs": [
    {
     "name": "stdout",
     "output_type": "stream",
     "text": [
      "('John', 'Doe', 'Inception', '2024-10-30 12:34:56')\n",
      "('John', 'Doe', 'The Matrix', '2024-10-31 12:34:56')\n",
      "('John', 'Doe', 'The Godfather', '2024-09-30 12:34:56')\n",
      "('Jane', 'Smith', 'The Matrix', '2024-10-31 09:15:23')\n",
      "('Sam', 'Wilson', 'The Godfather', '2024-11-01 16:45:12')\n",
      "('Emily', 'Clark', 'Titanic', '2024-11-02 18:22:43')\n",
      "('Michael', 'Johnson', 'Toy Story', '2024-11-03 20:01:00')\n"
     ]
    }
   ],
   "source": [
    "cursor.execute(\"\"\"\n",
    "    SELECT c.FIRSTNAME, c.LASTNAME, m.TITLE, w.DAY_ID\n",
    "    FROM MOVIES_CUSTOMER c\n",
    "    JOIN WATCHED_MOVIE w ON c.CUST_ID = w.PROMO_CUST_ID\n",
    "    JOIN MOVIES m ON w.MOVIE_ID = m.MOVIE_ID\n",
    "\"\"\")\n",
    "\n",
    "for row in cursor.fetchall():\n",
    "    print(row)\n"
   ]
  },
  {
   "cell_type": "markdown",
   "id": "b7336568",
   "metadata": {},
   "source": [
    "## Criando exemplos de contexto par ao agente no MongoDB"
   ]
  },
  {
   "cell_type": "markdown",
   "id": "fe5ec6f9",
   "metadata": {},
   "source": [
    "### Estabelecendo conexão com o mongodb"
   ]
  },
  {
   "cell_type": "code",
   "execution_count": 9,
   "id": "f3269bb8",
   "metadata": {},
   "outputs": [],
   "source": [
    "from pymongo import MongoClient\n",
    "\n",
    "client = MongoClient(MONGO_URI)\n",
    "client.drop_database(MONGO_DB_NAME)\n",
    "db = client[MONGO_DB_NAME]"
   ]
  },
  {
   "cell_type": "markdown",
   "id": "2c1cb877",
   "metadata": {},
   "source": [
    "### Criando coleções no MongoDB"
   ]
  },
  {
   "cell_type": "code",
   "execution_count": 33,
   "id": "9e06ae55",
   "metadata": {},
   "outputs": [],
   "source": [
    "# Coleções\n",
    "nodes = db[\"nodes\"]\n",
    "edges = db[\"edges\"]"
   ]
  },
  {
   "cell_type": "markdown",
   "id": "eeb52582",
   "metadata": {},
   "source": [
    "### Carregando dados dos jsons"
   ]
  },
  {
   "cell_type": "code",
   "execution_count": null,
   "id": "680cfb89",
   "metadata": {},
   "outputs": [],
   "source": [
    "import json\n",
    "\n",
    "# Função utilitária para carregar JSON\n",
    "def load_json(path):\n",
    "    with open(path, \"r\") as f:\n",
    "        return json.load(f)\n",
    "\n",
    "# Carregar dados\n",
    "file_names = [\"customers\", \"movies\", \"watched\"]\n",
    "destinations = {}\n",
    "base_path = \"data/{file_name}.json\"\n",
    "for file_name in file_names:\n",
    "    destinations[file_name] = load_json(base_path.format(file_name=file_name))\n",
    "\n",
    "customers = destinations['customers']\n",
    "movies = destinations['movies']\n",
    "watched = destinations['watched']"
   ]
  },
  {
   "cell_type": "code",
   "execution_count": 38,
   "id": "06f1efdd",
   "metadata": {},
   "outputs": [
    {
     "data": {
      "text/plain": [
       "[{'CUST_ID': 101, 'FIRSTNAME': 'John', 'LASTNAME': 'Doe'}]"
      ]
     },
     "execution_count": 38,
     "metadata": {},
     "output_type": "execute_result"
    }
   ],
   "source": [
    "customers"
   ]
  },
  {
   "cell_type": "markdown",
   "id": "f12956f1",
   "metadata": {},
   "source": [
    "### Inserindo dados nos nós"
   ]
  },
  {
   "cell_type": "code",
   "execution_count": 20,
   "id": "10fc612a",
   "metadata": {},
   "outputs": [],
   "source": [
    "def insert_nodes(data, type, key_id, collection):\n",
    "    documents = []\n",
    "    for item in data:\n",
    "        doc = {\n",
    "            \"_id\": f\"{type.lower()}_{item[key_id]}\",\n",
    "            \"type\": type,\n",
    "            \"properties\": item\n",
    "        }\n",
    "        documents.append(doc)\n",
    "\n",
    "    if documents:\n",
    "        collection.insert_many(documents)\n",
    "        print(f\"{len(documents)} nós do tipo '{type}' inseridos com sucesso.\")\n",
    "    else:\n",
    "        print(f\"Nenhum dado para inserir como '{type}'.\")"
   ]
  },
  {
   "cell_type": "code",
   "execution_count": null,
   "id": "cc96131a",
   "metadata": {},
   "outputs": [
    {
     "name": "stdout",
     "output_type": "stream",
     "text": [
      "1 nós do tipo 'CUSTOMER' inseridos com sucesso.\n",
      "1 nós do tipo 'MOVIE' inseridos com sucesso.\n"
     ]
    }
   ],
   "source": [
    "insert_nodes(customers, \"CUSTOMER\", \"CUST_ID\", nodes)\n",
    "insert_nodes(movies, \"MOVIE\", \"MOVIE_ID\", nodes)"
   ]
  },
  {
   "cell_type": "markdown",
   "id": "90a7b146",
   "metadata": {},
   "source": [
    "### Inserindo dados nos vértices"
   ]
  },
  {
   "cell_type": "code",
   "execution_count": 22,
   "id": "2fd92c26",
   "metadata": {},
   "outputs": [],
   "source": [
    "def insert_edges(data, type, fn_source, fn_destination, collection):\n",
    "    documents = []\n",
    "    for item in data:\n",
    "        edge_id = f\"{type.lower()}_{item['DAY_ID'].replace(' ', '_')}_{item['MOVIE_ID']}_{item['PROMO_CUST_ID']}\"\n",
    "        doc = {\n",
    "            \"_id\": edge_id,\n",
    "            \"type\": type,\n",
    "            \"source\": fn_source(item),\n",
    "            \"destination\": fn_destination(item),\n",
    "            \"properties\": item\n",
    "        }\n",
    "        documents.append(doc)\n",
    "\n",
    "    if documents:\n",
    "        collection.insert_many(documents)\n",
    "        print(f\"{len(documents)} edges do tipo '{type}' inseridos com sucesso.\")\n",
    "    else:\n",
    "        print(f\"Nenhum edge do tipo '{type}' para inserir.\")"
   ]
  },
  {
   "cell_type": "code",
   "execution_count": null,
   "id": "3832345e",
   "metadata": {},
   "outputs": [],
   "source": [
    "# insert_edges(\n",
    "#     watched,\n",
    "#     tipo=\"WATCHED\",\n",
    "#     fn_source=lambda d: f\"cust_{d['PROMO_CUST_ID']}\",\n",
    "#     fn_destination=lambda d: f\"movie_{d['MOVIE_ID']}\",\n",
    "#     collection=edges\n",
    "# )"
   ]
  },
  {
   "cell_type": "code",
   "execution_count": 23,
   "id": "e3e898e6",
   "metadata": {},
   "outputs": [
    {
     "data": {
      "text/plain": [
       "InsertOneResult('watch_2024-10-30_1_101', acknowledged=True)"
      ]
     },
     "execution_count": 23,
     "metadata": {},
     "output_type": "execute_result"
    }
   ],
   "source": [
    "# Inserir EDGE: WATCHED\n",
    "edges.insert_one({\n",
    "    \"_id\": \"watch_2024-10-30_1_101\",\n",
    "    \"type\": \"WATCHED\",\n",
    "    \"source\": \"cust_101\",           # refers to CUSTOMER\n",
    "    \"destination\": \"movie_1\",       # refers to MOVIE\n",
    "    \"properties\": {\n",
    "        \"DAY_ID\": \"2024-10-30 12:34:56\",\n",
    "        \"MOVIE_ID\": 1,\n",
    "        \"PROMO_CUST_ID\": 101\n",
    "    }\n",
    "})\n"
   ]
  }
 ],
 "metadata": {
  "kernelspec": {
   "display_name": ".venv",
   "language": "python",
   "name": "python3"
  },
  "language_info": {
   "codemirror_mode": {
    "name": "ipython",
    "version": 3
   },
   "file_extension": ".py",
   "mimetype": "text/x-python",
   "name": "python",
   "nbconvert_exporter": "python",
   "pygments_lexer": "ipython3",
   "version": "3.10.12"
  }
 },
 "nbformat": 4,
 "nbformat_minor": 5
}
